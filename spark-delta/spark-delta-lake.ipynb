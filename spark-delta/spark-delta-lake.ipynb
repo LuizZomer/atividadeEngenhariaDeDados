{
 "cells": [
  {
   "cell_type": "code",
   "execution_count": 1,
   "metadata": {
    "editable": true,
    "id": "EHdeeUNGSRUb",
    "slideshow": {
     "slide_type": ""
    },
    "tags": []
   },
   "outputs": [],
   "source": [
    "from pyspark.sql import SparkSession\n",
    "from pyspark.sql.types import StructType, StructField, StringType, FloatType\n",
    "\n",
    "from delta import *\n",
    "\n",
    "import logging\n",
    "\n",
    "logging.getLogger(\"py4j\").setLevel(logging.DEBUG)\n"
   ]
  },
  {
   "cell_type": "code",
   "execution_count": 2,
   "metadata": {
    "id": "o6a6T_sRSnKX"
   },
   "outputs": [
    {
     "name": "stderr",
     "output_type": "stream",
     "text": [
      "your 131072x1 screen size is bogus. expect trouble\n",
      "25/05/25 13:15:36 WARN Utils: Your hostname, luiz resolves to a loopback address: 127.0.1.1; using 10.255.255.254 instead (on interface lo)\n",
      "25/05/25 13:15:36 WARN Utils: Set SPARK_LOCAL_IP if you need to bind to another address\n"
     ]
    },
    {
     "name": "stdout",
     "output_type": "stream",
     "text": [
      ":: loading settings :: url = jar:file:/mnt/c/Users/lipez/OneDrive/Documentos/ProjetosPessoais/atividadeEngDados/spark-delta/.venv/lib/python3.11/site-packages/pyspark/jars/ivy-2.5.1.jar!/org/apache/ivy/core/settings/ivysettings.xml\n"
     ]
    },
    {
     "name": "stderr",
     "output_type": "stream",
     "text": [
      "Ivy Default Cache set to: /home/luiz/.ivy2/cache\n",
      "The jars for the packages stored in: /home/luiz/.ivy2/jars\n",
      "io.delta#delta-spark_2.12 added as a dependency\n",
      ":: resolving dependencies :: org.apache.spark#spark-submit-parent-008e391d-c3b8-4c17-9a97-4d7380d0fc87;1.0\n",
      "\tconfs: [default]\n",
      "\tfound io.delta#delta-spark_2.12;3.2.0 in central\n",
      "\tfound io.delta#delta-storage;3.2.0 in central\n",
      "\tfound org.antlr#antlr4-runtime;4.9.3 in central\n",
      ":: resolution report :: resolve 248ms :: artifacts dl 8ms\n",
      "\t:: modules in use:\n",
      "\tio.delta#delta-spark_2.12;3.2.0 from central in [default]\n",
      "\tio.delta#delta-storage;3.2.0 from central in [default]\n",
      "\torg.antlr#antlr4-runtime;4.9.3 from central in [default]\n",
      "\t---------------------------------------------------------------------\n",
      "\t|                  |            modules            ||   artifacts   |\n",
      "\t|       conf       | number| search|dwnlded|evicted|| number|dwnlded|\n",
      "\t---------------------------------------------------------------------\n",
      "\t|      default     |   3   |   0   |   0   |   0   ||   3   |   0   |\n",
      "\t---------------------------------------------------------------------\n",
      ":: retrieving :: org.apache.spark#spark-submit-parent-008e391d-c3b8-4c17-9a97-4d7380d0fc87\n",
      "\tconfs: [default]\n",
      "\t0 artifacts copied, 3 already retrieved (0kB/7ms)\n",
      "25/05/25 13:15:37 WARN NativeCodeLoader: Unable to load native-hadoop library for your platform... using builtin-java classes where applicable\n",
      "Setting default log level to \"WARN\".\n",
      "To adjust logging level use sc.setLogLevel(newLevel). For SparkR, use setLogLevel(newLevel).\n"
     ]
    }
   ],
   "source": [
    "# Create SparkSession\n",
    "spark = (\n",
    "    SparkSession\n",
    "    .builder\n",
    "    .master(\"local[*]\")\n",
    "    .config(\"spark.jars.packages\", \"io.delta:delta-spark_2.12:3.2.0\")\n",
    "    .config(\"spark.sql.extensions\", \"io.delta.sql.DeltaSparkSessionExtension\")\n",
    "    .config(\"spark.sql.catalog.spark_catalog\", \"org.apache.spark.sql.delta.catalog.DeltaCatalog\")\n",
    "    .getOrCreate()\n",
    ")"
   ]
  },
  {
   "cell_type": "code",
   "execution_count": 3,
   "metadata": {
    "colab": {
     "base_uri": "https://localhost:8080/",
     "height": 219
    },
    "id": "dLVRL7feT-cX",
    "outputId": "f9dc706f-a3a5-4f6b-8073-79fbc053a5fc"
   },
   "outputs": [
    {
     "data": {
      "text/html": [
       "\n",
       "            <div>\n",
       "                <p><b>SparkSession - in-memory</b></p>\n",
       "                \n",
       "        <div>\n",
       "            <p><b>SparkContext</b></p>\n",
       "\n",
       "            <p><a href=\"http://10.255.255.254:4040\">Spark UI</a></p>\n",
       "\n",
       "            <dl>\n",
       "              <dt>Version</dt>\n",
       "                <dd><code>v3.5.3</code></dd>\n",
       "              <dt>Master</dt>\n",
       "                <dd><code>local[*]</code></dd>\n",
       "              <dt>AppName</dt>\n",
       "                <dd><code>pyspark-shell</code></dd>\n",
       "            </dl>\n",
       "        </div>\n",
       "        \n",
       "            </div>\n",
       "        "
      ],
      "text/plain": [
       "<pyspark.sql.session.SparkSession at 0x7f11e41cfd10>"
      ]
     },
     "execution_count": 3,
     "metadata": {},
     "output_type": "execute_result"
    }
   ],
   "source": [
    "spark"
   ]
  },
  {
   "cell_type": "code",
   "execution_count": 13,
   "metadata": {},
   "outputs": [],
   "source": [
    "csv_path = '../data/HLTVCsGoResults.csv'\n",
    "delta_path = './spark-warehouse/csgo_matches'"
   ]
  },
  {
   "cell_type": "code",
   "execution_count": 23,
   "metadata": {},
   "outputs": [],
   "source": [
    "from pyspark.sql.types import StructType, StructField, StringType, IntegerType\n",
    "\n",
    "# Schema corrigido\n",
    "schema = StructType([\n",
    "    StructField(\"id\", IntegerType(), True),\n",
    "    StructField(\"match_url\", StringType(), True),\n",
    "    StructField(\"match_id\", IntegerType(), True),\n",
    "    StructField(\"team_A\", StringType(), True),\n",
    "    StructField(\"team_B\", StringType(), True),\n",
    "    StructField(\"score_tA\", IntegerType(), True),\n",
    "    StructField(\"score_tB\", IntegerType(), True),\n",
    "    StructField(\"competition\", StringType(), True),\n",
    "    StructField(\"type_of_match\", StringType(), True)\n",
    "])\n"
   ]
  },
  {
   "cell_type": "code",
   "execution_count": 24,
   "metadata": {
    "colab": {
     "base_uri": "https://localhost:8080/"
    },
    "id": "l4mjoy7AUAfW",
    "outputId": "283707f5-ecc4-4bb6-fed8-ae7ea1e0b060"
   },
   "outputs": [],
   "source": [
    "# Leitura do CSV corrigido (ajuste o caminho e separador)\n",
    "df = spark.read.option(\"header\", True).option(\"sep\", \";\").schema(schema).csv(\n",
    "    csv_path\n",
    ")"
   ]
  },
  {
   "cell_type": "code",
   "execution_count": 25,
   "metadata": {},
   "outputs": [
    {
     "name": "stderr",
     "output_type": "stream",
     "text": [
      "25/05/25 13:32:57 WARN CSVHeaderChecker: Number of column in CSV header is not equal to number of fields in the schema:\n",
      " Header length: 8, schema size: 9\n",
      "CSV file: file:///mnt/c/Users/lipez/OneDrive/Documentos/ProjetosPessoais/atividadeEngDados/data/HLTVCsGoResults.csv\n"
     ]
    }
   ],
   "source": [
    "# 5. Salvar como Delta Lake\n",
    "df.write.format(\"delta\").mode(\"overwrite\").option(\"mergeSchema\", \"true\").save(delta_path)\n"
   ]
  },
  {
   "cell_type": "code",
   "execution_count": 26,
   "metadata": {
    "colab": {
     "base_uri": "https://localhost:8080/"
    },
    "id": "ddrmZAIXUMcD",
    "outputId": "41d4d93e-c075-48cf-9149-e6e66ff22fc4"
   },
   "outputs": [
    {
     "data": {
      "text/plain": [
       "DataFrame[]"
      ]
     },
     "execution_count": 26,
     "metadata": {},
     "output_type": "execute_result"
    }
   ],
   "source": [
    "# Criar a tabela apontando para esse Delta\n",
    "spark.sql(f\"\"\"\n",
    "    CREATE TABLE IF NOT EXISTS csgo_matches\n",
    "    USING DELTA\n",
    "    LOCATION '{delta_path}'\n",
    "\"\"\")"
   ]
  },
  {
   "cell_type": "code",
   "execution_count": 27,
   "metadata": {
    "id": "hiL_WnXWUZyF"
   },
   "outputs": [
    {
     "name": "stdout",
     "output_type": "stream",
     "text": [
      "+-----+--------------------+--------+-----------------+--------------+--------+--------+--------------------+-------------+\n",
      "|   id|           match_url|match_id|           team_A|        team_B|score_tA|score_tB|         competition|type_of_match|\n",
      "+-----+--------------------+--------+-----------------+--------------+--------+--------+--------------------+-------------+\n",
      "|25835|https://www.hltv....| 2319564|         Dignitas|        Cloud9|      14|      16|ESL Pro League Se...|          cch|\n",
      "|25836|https://www.hltv....| 2321666|       Luminosity|    Complexity|      19|      15|ECS Season 5 Nort...|          trn|\n",
      "|25837|https://www.hltv....| 2321665|              NRG|        Cloud9|       8|      16|ECS Season 5 Nort...|          trn|\n",
      "|25838|https://www.hltv....| 2319563|               SK|         OpTic|      16|      13|ESL Pro League Se...|          ovp|\n",
      "|25839|https://www.hltv....| 2321664|           Cloud9|           NRG|      14|      16|ECS Season 5 Nort...|          inf|\n",
      "|25840|https://www.hltv....| 2319562|            OpTic|            SK|      16|       2|ESL Pro League Se...|          trn|\n",
      "|25841|https://www.hltv....| 2321707|            Nexus|       WE HAWT|       2|       0|Gfinity Winter Se...|          bo3|\n",
      "|25842|https://www.hltv....| 2319978|      mousesports|          LDLC|      19|      17|ESL Pro League Se...|         nuke|\n",
      "|25843|https://www.hltv....| 2319976|   Space Soldiers|        fnatic|      16|      14|ESL Pro League Se...|          cbl|\n",
      "|25844|https://www.hltv....| 2321710|              BIG|        Spirit|       2|       0|ESEA MDL Season 2...|          bo3|\n",
      "|25845|https://www.hltv....| 2321413|           Gambit|          Envy|      16|      14| ECS Season 5 Europe|          mrg|\n",
      "|25846|https://www.hltv....| 2321689|      Izako Boars|          Bpro|       1|       2| CSesport.com Cup #4|          bo3|\n",
      "|25847|https://www.hltv....| 2319974|             LDLC|   mousesports|      13|      16|ESL Pro League Se...|          cbl|\n",
      "|25848|https://www.hltv....| 2321617|No Quarter Cartel|      Endpoint|       0|       2|Gfinity Winter Se...|          bo3|\n",
      "|25849|https://www.hltv....| 2319972|           fnatic|Space Soldiers|      16|      11|ESL Pro League Se...|          mrg|\n",
      "|25850|https://www.hltv....| 2321625|  ALTERNATE aTTaX|       eXtatus|       2|       0|      Hellcase Cup 7|          bo3|\n",
      "|25851|https://www.hltv....| 2321412|             Envy|        Gambit|      16|      12| ECS Season 5 Europe|          cbl|\n",
      "|25852|https://www.hltv....| 2321656|           Refuse|   attackiereN|       1|       2|Gfinity Winter Se...|          bo3|\n",
      "|25853|https://www.hltv....| 2321709|          Windigo|    Virtus.pro|       2|       1|ESEA MDL Season 2...|          bo3|\n",
      "|25854|https://www.hltv....| 2319969|           Heroic| Natus Vincere|      14|      16|ESL Pro League Se...|          cch|\n",
      "+-----+--------------------+--------+-----------------+--------------+--------+--------+--------------------+-------------+\n",
      "only showing top 20 rows\n",
      "\n"
     ]
    }
   ],
   "source": [
    "spark.sql(\"SELECT * FROM csgo_matches\").show()\n"
   ]
  },
  {
   "cell_type": "code",
   "execution_count": null,
   "metadata": {},
   "outputs": [],
   "source": [
    "spark.sql(\"SELECT * FROM csgo_matches where match_id = 2321666\").show()"
   ]
  },
  {
   "cell_type": "code",
   "execution_count": 32,
   "metadata": {},
   "outputs": [],
   "source": [
    "delta_table = DeltaTable.forPath(spark, \"./spark-warehouse/csgo_matches\")"
   ]
  },
  {
   "cell_type": "code",
   "execution_count": null,
   "metadata": {
    "colab": {
     "base_uri": "https://localhost:8080/"
    },
    "id": "f_xTprevUeWz",
    "outputId": "51afaff6-8fe8-4bfe-92ae-c2f9193f49dc"
   },
   "outputs": [],
   "source": [
    "from delta.tables import DeltaTable\n",
    "\n",
    "delta_table.update(\n",
    "    condition=\"match_id = 2321666\",\n",
    "    set={\"score_tB\": \"2\"}\n",
    ")"
   ]
  },
  {
   "cell_type": "code",
   "execution_count": 31,
   "metadata": {},
   "outputs": [
    {
     "name": "stdout",
     "output_type": "stream",
     "text": [
      "+-----+--------------------+--------+----------+----------+--------+--------+--------------------+-------------+\n",
      "|   id|           match_url|match_id|    team_A|    team_B|score_tA|score_tB|         competition|type_of_match|\n",
      "+-----+--------------------+--------+----------+----------+--------+--------+--------------------+-------------+\n",
      "|25836|https://www.hltv....| 2321666|Luminosity|Complexity|      19|      10|ECS Season 5 Nort...|          trn|\n",
      "+-----+--------------------+--------+----------+----------+--------+--------+--------------------+-------------+\n",
      "\n"
     ]
    }
   ],
   "source": [
    "spark.sql(\"SELECT * FROM csgo_matches where match_id = 2321666\").show()"
   ]
  },
  {
   "cell_type": "code",
   "execution_count": 34,
   "metadata": {},
   "outputs": [],
   "source": [
    "delta_table.delete(\"match_id = 2321666\")"
   ]
  },
  {
   "cell_type": "code",
   "execution_count": 35,
   "metadata": {},
   "outputs": [
    {
     "name": "stdout",
     "output_type": "stream",
     "text": [
      "+---+---------+--------+------+------+--------+--------+-----------+-------------+\n",
      "| id|match_url|match_id|team_A|team_B|score_tA|score_tB|competition|type_of_match|\n",
      "+---+---------+--------+------+------+--------+--------+-----------+-------------+\n",
      "+---+---------+--------+------+------+--------+--------+-----------+-------------+\n",
      "\n"
     ]
    }
   ],
   "source": [
    "spark.sql(\"SELECT * FROM csgo_matches where match_id = 2321666\").show()"
   ]
  },
  {
   "cell_type": "code",
   "execution_count": 43,
   "metadata": {},
   "outputs": [
    {
     "name": "stderr",
     "output_type": "stream",
     "text": [
      "                                                                                \r"
     ]
    }
   ],
   "source": [
    "from pyspark.sql import Row\n",
    "from pyspark.sql.functions import col\n",
    "\n",
    "# Criar o novo Row\n",
    "new_row = [Row(\n",
    "    match_url=\"https://www.hltv.org/matches/9999999/test-vs-test\",\n",
    "    match_id=9999999,\n",
    "    team_A=\"TeamTestA\",\n",
    "    team_B=\"TeamTestB\",\n",
    "    score_tA=16,\n",
    "    score_tB=14,\n",
    "    competition=\"Test Cup\",\n",
    "    type_of_match=\"bo3\"\n",
    ")]\n",
    "\n",
    "# Criar o DataFrame\n",
    "new_data = spark.createDataFrame(new_row)\n",
    "\n",
    "# Fazer o cast de todos os campos para alinhar com o schema da tabela Delta\n",
    "new_data = new_data.select(\n",
    "    col(\"match_url\").cast(\"string\"),\n",
    "    col(\"match_id\").cast(\"int\"),  # <-- corrigido aqui\n",
    "    col(\"team_A\").cast(\"string\"),\n",
    "    col(\"team_B\").cast(\"string\"),\n",
    "    col(\"score_tA\").cast(\"int\"),\n",
    "    col(\"score_tB\").cast(\"int\"),\n",
    "    col(\"competition\").cast(\"string\"),\n",
    "    col(\"type_of_match\").cast(\"string\")\n",
    ")\n",
    "\n",
    "# Agora pode inserir sem erro\n",
    "new_data.write.format(\"delta\").mode(\"append\").save(\"./spark-warehouse/csgo_matches\")\n"
   ]
  },
  {
   "cell_type": "code",
   "execution_count": 44,
   "metadata": {},
   "outputs": [
    {
     "name": "stdout",
     "output_type": "stream",
     "text": [
      "+----+--------------------+--------+---------+---------+--------+--------+-----------+-------------+\n",
      "|  id|           match_url|match_id|   team_A|   team_B|score_tA|score_tB|competition|type_of_match|\n",
      "+----+--------------------+--------+---------+---------+--------+--------+-----------+-------------+\n",
      "|NULL|https://www.hltv....| 9999999|TeamTestA|TeamTestB|      16|      14|   Test Cup|          bo3|\n",
      "+----+--------------------+--------+---------+---------+--------+--------+-----------+-------------+\n",
      "\n"
     ]
    }
   ],
   "source": [
    "spark.sql(\"SELECT * FROM csgo_matches where match_id = 9999999\").show()"
   ]
  }
 ],
 "metadata": {
  "colab": {
   "provenance": []
  },
  "kernelspec": {
   "display_name": ".venv",
   "language": "python",
   "name": "python3"
  },
  "language_info": {
   "codemirror_mode": {
    "name": "ipython",
    "version": 3
   },
   "file_extension": ".py",
   "mimetype": "text/x-python",
   "name": "python",
   "nbconvert_exporter": "python",
   "pygments_lexer": "ipython3",
   "version": "3.11.11"
  }
 },
 "nbformat": 4,
 "nbformat_minor": 4
}
