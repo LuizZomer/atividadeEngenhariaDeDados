{
 "cells": [
  {
   "cell_type": "code",
   "execution_count": 8,
   "metadata": {},
   "outputs": [],
   "source": [
    "from pyspark.sql import SparkSession\n",
    "\n",
    "# Initialize Spark session with Iceberg configurations\n",
    "spark = SparkSession.builder \\\n",
    "  .appName(\"IcebergLocalDevelopment\") \\\n",
    "  .config('spark.jars.packages', 'org.apache.iceberg:iceberg-spark-runtime-3.5_2.12:1.6.1') \\\n",
    "  .config(\"spark.sql.extensions\", \"org.apache.iceberg.spark.extensions.IcebergSparkSessionExtensions\") \\\n",
    "  .config(\"spark.sql.catalog.local\", \"org.apache.iceberg.spark.SparkCatalog\") \\\n",
    "  .config(\"spark.sql.catalog.local.type\", \"hadoop\") \\\n",
    "  .config(\"spark.sql.catalog.local.warehouse\", \"spark-warehouse/iceberg\") \\\n",
    "  .getOrCreate()"
   ]
  },
  {
   "cell_type": "code",
   "execution_count": 9,
   "metadata": {},
   "outputs": [
    {
     "data": {
      "text/html": [
       "\n",
       "            <div>\n",
       "                <p><b>SparkSession - in-memory</b></p>\n",
       "                \n",
       "        <div>\n",
       "            <p><b>SparkContext</b></p>\n",
       "\n",
       "            <p><a href=\"http://10.255.255.254:4040\">Spark UI</a></p>\n",
       "\n",
       "            <dl>\n",
       "              <dt>Version</dt>\n",
       "                <dd><code>v3.5.3</code></dd>\n",
       "              <dt>Master</dt>\n",
       "                <dd><code>local[*]</code></dd>\n",
       "              <dt>AppName</dt>\n",
       "                <dd><code>IcebergLocalDevelopment</code></dd>\n",
       "            </dl>\n",
       "        </div>\n",
       "        \n",
       "            </div>\n",
       "        "
      ],
      "text/plain": [
       "<pyspark.sql.session.SparkSession at 0x7f1181533490>"
      ]
     },
     "execution_count": 9,
     "metadata": {},
     "output_type": "execute_result"
    }
   ],
   "source": [
    "spark"
   ]
  },
  {
   "cell_type": "code",
   "execution_count": 10,
   "metadata": {},
   "outputs": [],
   "source": [
    "csv_df = spark.read.csv(\"../data/footbalDataset.csv\", header=True, inferSchema=True)\n"
   ]
  },
  {
   "cell_type": "code",
   "execution_count": 11,
   "metadata": {},
   "outputs": [
    {
     "data": {
      "text/plain": [
       "DataFrame[]"
      ]
     },
     "execution_count": 11,
     "metadata": {},
     "output_type": "execute_result"
    }
   ],
   "source": [
    "spark.sql(\"\"\"\n",
    "CREATE TABLE IF NOT EXISTS local.db.football_games (\n",
    "  Round STRING,\n",
    "  Date STRING,\n",
    "  Time STRING,\n",
    "  Team STRING,\n",
    "  Team_Score STRING,\n",
    "  Opponent_Score STRING,\n",
    "  Opponent STRING,\n",
    "  Home_Score_AET STRING,\n",
    "  Away_Score_AET STRING,\n",
    "  Home_Penalties STRING,\n",
    "  Away_Penalties STRING,\n",
    "  Team_Points STRING,\n",
    "  Opponent_Points STRING,\n",
    "  season STRING,\n",
    "  Location STRING,\n",
    "  Country STRING,\n",
    "  Competition STRING\n",
    ")\n",
    "USING iceberg\n",
    "LOCATION 'spark-warehouse/iceberg/db/football_games'\n",
    "\"\"\")"
   ]
  },
  {
   "cell_type": "code",
   "execution_count": 12,
   "metadata": {},
   "outputs": [],
   "source": [
    "csv_df.write.format(\"iceberg\").mode(\"append\").save(\"local.db.football_games\")\n"
   ]
  },
  {
   "cell_type": "code",
   "execution_count": 13,
   "metadata": {},
   "outputs": [
    {
     "name": "stdout",
     "output_type": "stream",
     "text": [
      "+----------------+----------+----------+\n",
      "|            Team|      Date|Team_Score|\n",
      "+----------------+----------+----------+\n",
      "|RACING SANTANDER|31/08/2002|       0.0|\n",
      "|RACING SANTANDER|31/08/2002|       0.0|\n",
      "+----------------+----------+----------+\n",
      "\n"
     ]
    },
    {
     "name": "stderr",
     "output_type": "stream",
     "text": [
      "                                                                                \r"
     ]
    }
   ],
   "source": [
    "result = spark.sql(\"\"\"\n",
    "    SELECT Team, Date, Team_Score\n",
    "    FROM local.db.football_games\n",
    "    WHERE Team = 'RACING SANTANDER' AND Date = '31/08/2002'\n",
    "\"\"\").show()"
   ]
  },
  {
   "cell_type": "code",
   "execution_count": 14,
   "metadata": {},
   "outputs": [
    {
     "data": {
      "text/plain": [
       "DataFrame[]"
      ]
     },
     "execution_count": 14,
     "metadata": {},
     "output_type": "execute_result"
    }
   ],
   "source": [
    "spark.sql(\"\"\"\n",
    "    UPDATE local.db.football_games\n",
    "    SET Team_Score = '1.0'\n",
    "    WHERE Team = 'RACING SANTANDER' AND Date = '31/08/2002'\n",
    "\"\"\")"
   ]
  },
  {
   "cell_type": "code",
   "execution_count": 15,
   "metadata": {},
   "outputs": [
    {
     "name": "stdout",
     "output_type": "stream",
     "text": [
      "+----------------+----------+----------+\n",
      "|            Team|      Date|Team_Score|\n",
      "+----------------+----------+----------+\n",
      "|RACING SANTANDER|31/08/2002|       1.0|\n",
      "|RACING SANTANDER|31/08/2002|       1.0|\n",
      "+----------------+----------+----------+\n",
      "\n"
     ]
    }
   ],
   "source": [
    "result = spark.sql(\"\"\"\n",
    "    SELECT Team, Date, Team_Score\n",
    "    FROM local.db.football_games\n",
    "    WHERE Team = 'RACING SANTANDER' AND Date = '31/08/2002'\n",
    "\"\"\").show()"
   ]
  },
  {
   "cell_type": "code",
   "execution_count": 16,
   "metadata": {},
   "outputs": [
    {
     "data": {
      "text/plain": [
       "DataFrame[]"
      ]
     },
     "execution_count": 16,
     "metadata": {},
     "output_type": "execute_result"
    }
   ],
   "source": [
    "spark.sql(\"\"\"\n",
    "    DELETE FROM local.db.football_games\n",
    "    WHERE Team = 'RAYO VALLECANO' AND Date = '01/09/2002'\n",
    "\"\"\")"
   ]
  },
  {
   "cell_type": "code",
   "execution_count": 17,
   "metadata": {},
   "outputs": [
    {
     "name": "stdout",
     "output_type": "stream",
     "text": [
      "+-----+----+----+----+----------+--------------+--------+--------------+--------------+--------------+--------------+-----------+---------------+------+--------+-------+-----------+\n",
      "|Round|Date|Time|Team|Team_Score|Opponent_Score|Opponent|Home_Score_AET|Away_Score_AET|Home_Penalties|Away_Penalties|Team_Points|Opponent_Points|season|Location|Country|Competition|\n",
      "+-----+----+----+----+----------+--------------+--------+--------------+--------------+--------------+--------------+-----------+---------------+------+--------+-------+-----------+\n",
      "+-----+----+----+----+----------+--------------+--------+--------------+--------------+--------------+--------------+-----------+---------------+------+--------+-------+-----------+\n",
      "\n"
     ]
    }
   ],
   "source": [
    "spark.sql(\"\"\"\n",
    "    SELECT *\n",
    "    FROM local.db.football_games\n",
    "    WHERE Team = 'RAYO VALLECANO' AND Date = '01/09/2002'\n",
    "\"\"\").show()"
   ]
  },
  {
   "cell_type": "code",
   "execution_count": 18,
   "metadata": {},
   "outputs": [
    {
     "data": {
      "text/plain": [
       "DataFrame[]"
      ]
     },
     "execution_count": 18,
     "metadata": {},
     "output_type": "execute_result"
    }
   ],
   "source": [
    "spark.sql(\"\"\"\n",
    "    INSERT INTO local.db.football_games VALUES (\n",
    "        'ROUND 2',          -- Round\n",
    "        '15/09/2002',       -- Date\n",
    "        '20:00',            -- Time\n",
    "        'NEW TEAM',         -- Team\n",
    "        3.0,                -- Team_Score\n",
    "        1.0,                -- Opponent_Score\n",
    "        'OLD TEAM',         -- Opponent\n",
    "        NULL,               -- Home_Score_AET\n",
    "        NULL,               -- Away_Score_AET\n",
    "        NULL,               -- Home_Penalties\n",
    "        NULL,               -- Away_Penalties\n",
    "        3.0,                -- Team_Points\n",
    "        0.0,                -- Opponent_Points\n",
    "        2002,               -- season\n",
    "        'Home',             -- Location\n",
    "        'spain',            -- Country\n",
    "        'primera-division'  -- Competition\n",
    "    )\n",
    "\"\"\")"
   ]
  },
  {
   "cell_type": "code",
   "execution_count": 21,
   "metadata": {},
   "outputs": [
    {
     "name": "stdout",
     "output_type": "stream",
     "text": [
      "+-------+----------+-----+--------+----------+--------------+--------+--------------+--------------+--------------+--------------+-----------+---------------+------+--------+-------+----------------+\n",
      "|  Round|      Date| Time|    Team|Team_Score|Opponent_Score|Opponent|Home_Score_AET|Away_Score_AET|Home_Penalties|Away_Penalties|Team_Points|Opponent_Points|season|Location|Country|     Competition|\n",
      "+-------+----------+-----+--------+----------+--------------+--------+--------------+--------------+--------------+--------------+-----------+---------------+------+--------+-------+----------------+\n",
      "|ROUND 2|15/09/2002|20:00|NEW TEAM|       3.0|           1.0|OLD TEAM|          NULL|          NULL|          NULL|          NULL|        3.0|            0.0|  2002|    Home|  spain|primera-division|\n",
      "+-------+----------+-----+--------+----------+--------------+--------+--------------+--------------+--------------+--------------+-----------+---------------+------+--------+-------+----------------+\n",
      "\n"
     ]
    }
   ],
   "source": [
    "spark.sql(\"select * from local.db.football_games where Team = 'NEW TEAM'\").show()"
   ]
  }
 ],
 "metadata": {
  "kernelspec": {
   "display_name": ".venv",
   "language": "python",
   "name": "python3"
  },
  "language_info": {
   "codemirror_mode": {
    "name": "ipython",
    "version": 3
   },
   "file_extension": ".py",
   "mimetype": "text/x-python",
   "name": "python",
   "nbconvert_exporter": "python",
   "pygments_lexer": "ipython3",
   "version": "3.11.12"
  }
 },
 "nbformat": 4,
 "nbformat_minor": 2
}
